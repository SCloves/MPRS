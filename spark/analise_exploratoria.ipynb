{
 "cells": [
  {
   "cell_type": "code",
   "execution_count": 55,
   "metadata": {},
   "outputs": [],
   "source": [
    "library(sqldf)\n",
    "library(ggplot2)"
   ]
  },
  {
   "cell_type": "markdown",
   "metadata": {},
   "source": [
    "# Frequência de Compromissários"
   ]
  },
  {
   "cell_type": "code",
   "execution_count": 1,
   "metadata": {},
   "outputs": [],
   "source": [
    "compromissario_nomeArquivo = read.csv('compromissario_nomeArquivo.csv', sep = '\\t')"
   ]
  },
  {
   "cell_type": "code",
   "execution_count": 2,
   "metadata": {},
   "outputs": [
    {
     "data": {
      "text/html": [
       "<table>\n",
       "<thead><tr><th scope=col>id</th><th scope=col>compromissario</th><th scope=col>numero</th><th scope=col>nome_arquivo</th></tr></thead>\n",
       "<tbody>\n",
       "\t<tr><td>0                           </td><td>minimercado jung e horn ltda</td><td>00715.00017/2016            </td><td>1604.pdf                    </td></tr>\n",
       "\t<tr><td>1                           </td><td>luciano knebel ottonelli    </td><td>00794.00023/2016            </td><td>2768.pdf                    </td></tr>\n",
       "\t<tr><td>2                           </td><td>juarez neme da costa        </td><td>00794.00023/2016            </td><td>2768.pdf                    </td></tr>\n",
       "\t<tr><td>3                           </td><td>fernando zamin              </td><td>00794.00023/2016            </td><td>2768.pdf                    </td></tr>\n",
       "\t<tr><td>4                           </td><td>ronaldo lara resende        </td><td>00771.00048/2016            </td><td>2400.pdf                    </td></tr>\n",
       "\t<tr><td>5                           </td><td>luisinho maximino dalavechia</td><td>00908.00013/2016            </td><td>187.pdf                     </td></tr>\n",
       "</tbody>\n",
       "</table>\n"
      ],
      "text/latex": [
       "\\begin{tabular}{r|llll}\n",
       " id & compromissario & numero & nome\\_arquivo\\\\\n",
       "\\hline\n",
       "\t 0                            & minimercado jung e horn ltda & 00715.00017/2016             & 1604.pdf                    \\\\\n",
       "\t 1                            & luciano knebel ottonelli     & 00794.00023/2016             & 2768.pdf                    \\\\\n",
       "\t 2                            & juarez neme da costa         & 00794.00023/2016             & 2768.pdf                    \\\\\n",
       "\t 3                            & fernando zamin               & 00794.00023/2016             & 2768.pdf                    \\\\\n",
       "\t 4                            & ronaldo lara resende         & 00771.00048/2016             & 2400.pdf                    \\\\\n",
       "\t 5                            & luisinho maximino dalavechia & 00908.00013/2016             & 187.pdf                     \\\\\n",
       "\\end{tabular}\n"
      ],
      "text/markdown": [
       "\n",
       "id | compromissario | numero | nome_arquivo | \n",
       "|---|---|---|---|---|---|\n",
       "| 0                            | minimercado jung e horn ltda | 00715.00017/2016             | 1604.pdf                     | \n",
       "| 1                            | luciano knebel ottonelli     | 00794.00023/2016             | 2768.pdf                     | \n",
       "| 2                            | juarez neme da costa         | 00794.00023/2016             | 2768.pdf                     | \n",
       "| 3                            | fernando zamin               | 00794.00023/2016             | 2768.pdf                     | \n",
       "| 4                            | ronaldo lara resende         | 00771.00048/2016             | 2400.pdf                     | \n",
       "| 5                            | luisinho maximino dalavechia | 00908.00013/2016             | 187.pdf                      | \n",
       "\n",
       "\n"
      ],
      "text/plain": [
       "  id compromissario               numero           nome_arquivo\n",
       "1 0  minimercado jung e horn ltda 00715.00017/2016 1604.pdf    \n",
       "2 1  luciano knebel ottonelli     00794.00023/2016 2768.pdf    \n",
       "3 2  juarez neme da costa         00794.00023/2016 2768.pdf    \n",
       "4 3  fernando zamin               00794.00023/2016 2768.pdf    \n",
       "5 4  ronaldo lara resende         00771.00048/2016 2400.pdf    \n",
       "6 5  luisinho maximino dalavechia 00908.00013/2016 187.pdf     "
      ]
     },
     "metadata": {},
     "output_type": "display_data"
    }
   ],
   "source": [
    "head(compromissario_nomeArquivo)"
   ]
  },
  {
   "cell_type": "code",
   "execution_count": 39,
   "metadata": {},
   "outputs": [],
   "source": [
    "compromissarioFreq = sqldf('select compromissario, count(nome_arquivo) as freq from\n",
    "                            compromissario_nomeArquivo \n",
    "                            where compromissario != \"Não identificado\"\n",
    "                            group by compromissario\n",
    "                            order by freq desc;')"
   ]
  },
  {
   "cell_type": "code",
   "execution_count": 40,
   "metadata": {},
   "outputs": [
    {
     "data": {
      "text/html": [
       "<ol class=list-inline>\n",
       "\t<li>2718</li>\n",
       "\t<li>2</li>\n",
       "</ol>\n"
      ],
      "text/latex": [
       "\\begin{enumerate*}\n",
       "\\item 2718\n",
       "\\item 2\n",
       "\\end{enumerate*}\n"
      ],
      "text/markdown": [
       "1. 2718\n",
       "2. 2\n",
       "\n",
       "\n"
      ],
      "text/plain": [
       "[1] 2718    2"
      ]
     },
     "metadata": {},
     "output_type": "display_data"
    }
   ],
   "source": [
    "dim(compromissarioFreq)"
   ]
  },
  {
   "cell_type": "code",
   "execution_count": 41,
   "metadata": {},
   "outputs": [
    {
     "data": {
      "text/html": [
       "<table>\n",
       "<thead><tr><th scope=col>compromissario</th><th scope=col>freq</th></tr></thead>\n",
       "<tbody>\n",
       "\t<tr><td>everton luís resmini meneses             </td><td>24                                       </td></tr>\n",
       "\t<tr><td>fundo para reconstituição de bens lesados</td><td>16                                       </td></tr>\n",
       "\t<tr><td>evandro lobato kaltbach                  </td><td> 7                                       </td></tr>\n",
       "\t<tr><td>luziharin carolina tramontina            </td><td> 7                                       </td></tr>\n",
       "\t<tr><td>plano de prevenção conta incêndio        </td><td> 7                                       </td></tr>\n",
       "\t<tr><td>título ii                                </td><td> 7                                       </td></tr>\n",
       "</tbody>\n",
       "</table>\n"
      ],
      "text/latex": [
       "\\begin{tabular}{r|ll}\n",
       " compromissario & freq\\\\\n",
       "\\hline\n",
       "\t everton luís resmini meneses              & 24                                       \\\\\n",
       "\t fundo para reconstituição de bens lesados & 16                                       \\\\\n",
       "\t evandro lobato kaltbach                   &  7                                       \\\\\n",
       "\t luziharin carolina tramontina             &  7                                       \\\\\n",
       "\t plano de prevenção conta incêndio         &  7                                       \\\\\n",
       "\t título ii                                 &  7                                       \\\\\n",
       "\\end{tabular}\n"
      ],
      "text/markdown": [
       "\n",
       "compromissario | freq | \n",
       "|---|---|---|---|---|---|\n",
       "| everton luís resmini meneses              | 24                                        | \n",
       "| fundo para reconstituição de bens lesados | 16                                        | \n",
       "| evandro lobato kaltbach                   |  7                                        | \n",
       "| luziharin carolina tramontina             |  7                                        | \n",
       "| plano de prevenção conta incêndio         |  7                                        | \n",
       "| título ii                                 |  7                                        | \n",
       "\n",
       "\n"
      ],
      "text/plain": [
       "  compromissario                            freq\n",
       "1 everton luís resmini meneses              24  \n",
       "2 fundo para reconstituição de bens lesados 16  \n",
       "3 evandro lobato kaltbach                    7  \n",
       "4 luziharin carolina tramontina              7  \n",
       "5 plano de prevenção conta incêndio          7  \n",
       "6 título ii                                  7  "
      ]
     },
     "metadata": {},
     "output_type": "display_data"
    }
   ],
   "source": [
    "head(compromissarioFreq)"
   ]
  },
  {
   "cell_type": "code",
   "execution_count": 42,
   "metadata": {},
   "outputs": [],
   "source": [
    "# Compromissário q aparece mais que 7 vezes\n",
    "compromissario = subset(compromissarioFreq, freq >= 7)"
   ]
  },
  {
   "cell_type": "code",
   "execution_count": 43,
   "metadata": {},
   "outputs": [
    {
     "data": {
      "text/html": [
       "<ol class=list-inline>\n",
       "\t<li>6</li>\n",
       "\t<li>2</li>\n",
       "</ol>\n"
      ],
      "text/latex": [
       "\\begin{enumerate*}\n",
       "\\item 6\n",
       "\\item 2\n",
       "\\end{enumerate*}\n"
      ],
      "text/markdown": [
       "1. 6\n",
       "2. 2\n",
       "\n",
       "\n"
      ],
      "text/plain": [
       "[1] 6 2"
      ]
     },
     "metadata": {},
     "output_type": "display_data"
    }
   ],
   "source": [
    "dim(compromissario)"
   ]
  },
  {
   "cell_type": "code",
   "execution_count": 44,
   "metadata": {},
   "outputs": [
    {
     "data": {
      "text/html": [
       "<table>\n",
       "<thead><tr><th scope=col>compromissario</th><th scope=col>freq</th></tr></thead>\n",
       "<tbody>\n",
       "\t<tr><td>everton luís resmini meneses             </td><td>24                                       </td></tr>\n",
       "\t<tr><td>fundo para reconstituição de bens lesados</td><td>16                                       </td></tr>\n",
       "\t<tr><td>evandro lobato kaltbach                  </td><td> 7                                       </td></tr>\n",
       "\t<tr><td>luziharin carolina tramontina            </td><td> 7                                       </td></tr>\n",
       "\t<tr><td>plano de prevenção conta incêndio        </td><td> 7                                       </td></tr>\n",
       "\t<tr><td>título ii                                </td><td> 7                                       </td></tr>\n",
       "</tbody>\n",
       "</table>\n"
      ],
      "text/latex": [
       "\\begin{tabular}{r|ll}\n",
       " compromissario & freq\\\\\n",
       "\\hline\n",
       "\t everton luís resmini meneses              & 24                                       \\\\\n",
       "\t fundo para reconstituição de bens lesados & 16                                       \\\\\n",
       "\t evandro lobato kaltbach                   &  7                                       \\\\\n",
       "\t luziharin carolina tramontina             &  7                                       \\\\\n",
       "\t plano de prevenção conta incêndio         &  7                                       \\\\\n",
       "\t título ii                                 &  7                                       \\\\\n",
       "\\end{tabular}\n"
      ],
      "text/markdown": [
       "\n",
       "compromissario | freq | \n",
       "|---|---|---|---|---|---|\n",
       "| everton luís resmini meneses              | 24                                        | \n",
       "| fundo para reconstituição de bens lesados | 16                                        | \n",
       "| evandro lobato kaltbach                   |  7                                        | \n",
       "| luziharin carolina tramontina             |  7                                        | \n",
       "| plano de prevenção conta incêndio         |  7                                        | \n",
       "| título ii                                 |  7                                        | \n",
       "\n",
       "\n"
      ],
      "text/plain": [
       "  compromissario                            freq\n",
       "1 everton luís resmini meneses              24  \n",
       "2 fundo para reconstituição de bens lesados 16  \n",
       "3 evandro lobato kaltbach                    7  \n",
       "4 luziharin carolina tramontina              7  \n",
       "5 plano de prevenção conta incêndio          7  \n",
       "6 título ii                                  7  "
      ]
     },
     "metadata": {},
     "output_type": "display_data"
    }
   ],
   "source": [
    "compromissario"
   ]
  },
  {
   "cell_type": "markdown",
   "metadata": {},
   "source": [
    "# Assunto por Cidade"
   ]
  },
  {
   "cell_type": "code",
   "execution_count": 46,
   "metadata": {},
   "outputs": [],
   "source": [
    "assunto_cidade = read.csv('cidade_assunto.csv', sep = '\\t')"
   ]
  },
  {
   "cell_type": "code",
   "execution_count": 47,
   "metadata": {},
   "outputs": [
    {
     "data": {
      "text/html": [
       "<table>\n",
       "<thead><tr><th scope=col>id</th><th scope=col>cidade</th><th scope=col>assunto</th><th scope=col>numero</th><th scope=col>nome_arquivo</th></tr></thead>\n",
       "<tbody>\n",
       "\t<tr><td>0                                               </td><td>Não identificado                                </td><td>DEFESA DA CIDADANIA - SAÚDE PÚBLICA             </td><td>00715.00017/2016                                </td><td>1604.pdf                                        </td></tr>\n",
       "\t<tr><td>1                                               </td><td>ijuí                                            </td><td>DEFESA COMUNITÁRIA - RESÍDUOS SÓLIDOS - OUTROS  </td><td>00794.00023/2016                                </td><td>2768.pdf                                        </td></tr>\n",
       "\t<tr><td>2                                               </td><td>Não identificado                                </td><td>DEFESA COMUNITÁRIA - FAUNA                      </td><td>00771.00048/2016                                </td><td>2400.pdf                                        </td></tr>\n",
       "\t<tr><td>3                                               </td><td>Não identificado                                </td><td>DEFESA COMUNITÁRIA - FLORA                      </td><td>00908.00013/2016                                </td><td>187.pdf                                         </td></tr>\n",
       "\t<tr><td>4                                               </td><td>Não identificado                                </td><td>DEFESA DA CIDADANIA - SAÚDE PÚBLICA             </td><td>00731.00003/2011                                </td><td>1842.pdf                                        </td></tr>\n",
       "\t<tr><td>5                                               </td><td>bom jesus                                       </td><td>DEFESA COMUNITÁRIA - OUTRAS HIPÓTESES AMBIENTAIS</td><td>00725.00008/2015                                </td><td>3849.pdf                                        </td></tr>\n",
       "</tbody>\n",
       "</table>\n"
      ],
      "text/latex": [
       "\\begin{tabular}{r|lllll}\n",
       " id & cidade & assunto & numero & nome\\_arquivo\\\\\n",
       "\\hline\n",
       "\t 0                                                & Não identificado                                 & DEFESA DA CIDADANIA - SAÚDE PÚBLICA              & 00715.00017/2016                                 & 1604.pdf                                        \\\\\n",
       "\t 1                                                & ijuí                                             & DEFESA COMUNITÁRIA - RESÍDUOS SÓLIDOS - OUTROS   & 00794.00023/2016                                 & 2768.pdf                                        \\\\\n",
       "\t 2                                                & Não identificado                                 & DEFESA COMUNITÁRIA - FAUNA                       & 00771.00048/2016                                 & 2400.pdf                                        \\\\\n",
       "\t 3                                                & Não identificado                                 & DEFESA COMUNITÁRIA - FLORA                       & 00908.00013/2016                                 & 187.pdf                                         \\\\\n",
       "\t 4                                                & Não identificado                                 & DEFESA DA CIDADANIA - SAÚDE PÚBLICA              & 00731.00003/2011                                 & 1842.pdf                                        \\\\\n",
       "\t 5                                                & bom jesus                                        & DEFESA COMUNITÁRIA - OUTRAS HIPÓTESES AMBIENTAIS & 00725.00008/2015                                 & 3849.pdf                                        \\\\\n",
       "\\end{tabular}\n"
      ],
      "text/markdown": [
       "\n",
       "id | cidade | assunto | numero | nome_arquivo | \n",
       "|---|---|---|---|---|---|\n",
       "| 0                                                | Não identificado                                 | DEFESA DA CIDADANIA - SAÚDE PÚBLICA              | 00715.00017/2016                                 | 1604.pdf                                         | \n",
       "| 1                                                | ijuí                                             | DEFESA COMUNITÁRIA - RESÍDUOS SÓLIDOS - OUTROS   | 00794.00023/2016                                 | 2768.pdf                                         | \n",
       "| 2                                                | Não identificado                                 | DEFESA COMUNITÁRIA - FAUNA                       | 00771.00048/2016                                 | 2400.pdf                                         | \n",
       "| 3                                                | Não identificado                                 | DEFESA COMUNITÁRIA - FLORA                       | 00908.00013/2016                                 | 187.pdf                                          | \n",
       "| 4                                                | Não identificado                                 | DEFESA DA CIDADANIA - SAÚDE PÚBLICA              | 00731.00003/2011                                 | 1842.pdf                                         | \n",
       "| 5                                                | bom jesus                                        | DEFESA COMUNITÁRIA - OUTRAS HIPÓTESES AMBIENTAIS | 00725.00008/2015                                 | 3849.pdf                                         | \n",
       "\n",
       "\n"
      ],
      "text/plain": [
       "  id cidade           assunto                                         \n",
       "1 0  Não identificado DEFESA DA CIDADANIA - SAÚDE PÚBLICA             \n",
       "2 1  ijuí             DEFESA COMUNITÁRIA - RESÍDUOS SÓLIDOS - OUTROS  \n",
       "3 2  Não identificado DEFESA COMUNITÁRIA - FAUNA                      \n",
       "4 3  Não identificado DEFESA COMUNITÁRIA - FLORA                      \n",
       "5 4  Não identificado DEFESA DA CIDADANIA - SAÚDE PÚBLICA             \n",
       "6 5  bom jesus        DEFESA COMUNITÁRIA - OUTRAS HIPÓTESES AMBIENTAIS\n",
       "  numero           nome_arquivo\n",
       "1 00715.00017/2016 1604.pdf    \n",
       "2 00794.00023/2016 2768.pdf    \n",
       "3 00771.00048/2016 2400.pdf    \n",
       "4 00908.00013/2016 187.pdf     \n",
       "5 00731.00003/2011 1842.pdf    \n",
       "6 00725.00008/2015 3849.pdf    "
      ]
     },
     "metadata": {},
     "output_type": "display_data"
    }
   ],
   "source": [
    "head(assunto_cidade)"
   ]
  },
  {
   "cell_type": "code",
   "execution_count": 48,
   "metadata": {},
   "outputs": [],
   "source": [
    "cidade_assunto_freq = sqldf('select cidade, assunto, count(assunto) as freq_assunto \n",
    "                            from assunto_cidade\n",
    "                            where cidade != \"Não identificado\"\n",
    "                            group by cidade\n",
    "                            order by freq_assunto desc;')"
   ]
  },
  {
   "cell_type": "code",
   "execution_count": 49,
   "metadata": {},
   "outputs": [
    {
     "data": {
      "text/html": [
       "<ol class=list-inline>\n",
       "\t<li>221</li>\n",
       "\t<li>3</li>\n",
       "</ol>\n"
      ],
      "text/latex": [
       "\\begin{enumerate*}\n",
       "\\item 221\n",
       "\\item 3\n",
       "\\end{enumerate*}\n"
      ],
      "text/markdown": [
       "1. 221\n",
       "2. 3\n",
       "\n",
       "\n"
      ],
      "text/plain": [
       "[1] 221   3"
      ]
     },
     "metadata": {},
     "output_type": "display_data"
    }
   ],
   "source": [
    "dim(cidade_assunto_freq)"
   ]
  },
  {
   "cell_type": "code",
   "execution_count": 50,
   "metadata": {},
   "outputs": [
    {
     "data": {
      "text/html": [
       "<table>\n",
       "<thead><tr><th scope=col>cidade</th><th scope=col>assunto</th><th scope=col>freq_assunto</th></tr></thead>\n",
       "<tbody>\n",
       "\t<tr><td>torres                                                                         </td><td>DEFESA COMUNITÁRIA - OUTRAS HIPÓTESES AMBIENTAIS                               </td><td>111                                                                            </td></tr>\n",
       "\t<tr><td>alegrete                                                                       </td><td>DEFESA COMUNITÁRIA - RESÍDUOS SÓLIDOS (URBANOS, INDUSTRIAIS, HOSPITALARES, ...)</td><td> 61                                                                            </td></tr>\n",
       "\t<tr><td>caxias do sul                                                                  </td><td>DEFESA COMUNITÁRIA - LOTEAMENTOS IRREGULARES OU CLANDESTINOS                   </td><td> 54                                                                            </td></tr>\n",
       "\t<tr><td>viamão                                                                         </td><td>DEFESA COMUNITÁRIA - OUTRAS HIPÓTESES AMBIENTAIS                               </td><td> 54                                                                            </td></tr>\n",
       "\t<tr><td>passo fundo                                                                    </td><td>DEFESA COMUNITÁRIA - OUTRAS HIPÓTESES AMBIENTAIS                               </td><td> 52                                                                            </td></tr>\n",
       "\t<tr><td>porto alegre                                                                   </td><td>DEFESA COMUNITÁRIA - FLORA                                                     </td><td> 48                                                                            </td></tr>\n",
       "</tbody>\n",
       "</table>\n"
      ],
      "text/latex": [
       "\\begin{tabular}{r|lll}\n",
       " cidade & assunto & freq\\_assunto\\\\\n",
       "\\hline\n",
       "\t torres                                                                          & DEFESA COMUNITÁRIA - OUTRAS HIPÓTESES AMBIENTAIS                                & 111                                                                            \\\\\n",
       "\t alegrete                                                                        & DEFESA COMUNITÁRIA - RESÍDUOS SÓLIDOS (URBANOS, INDUSTRIAIS, HOSPITALARES, ...) &  61                                                                            \\\\\n",
       "\t caxias do sul                                                                   & DEFESA COMUNITÁRIA - LOTEAMENTOS IRREGULARES OU CLANDESTINOS                    &  54                                                                            \\\\\n",
       "\t viamão                                                                          & DEFESA COMUNITÁRIA - OUTRAS HIPÓTESES AMBIENTAIS                                &  54                                                                            \\\\\n",
       "\t passo fundo                                                                     & DEFESA COMUNITÁRIA - OUTRAS HIPÓTESES AMBIENTAIS                                &  52                                                                            \\\\\n",
       "\t porto alegre                                                                    & DEFESA COMUNITÁRIA - FLORA                                                      &  48                                                                            \\\\\n",
       "\\end{tabular}\n"
      ],
      "text/markdown": [
       "\n",
       "cidade | assunto | freq_assunto | \n",
       "|---|---|---|---|---|---|\n",
       "| torres                                                                          | DEFESA COMUNITÁRIA - OUTRAS HIPÓTESES AMBIENTAIS                                | 111                                                                             | \n",
       "| alegrete                                                                        | DEFESA COMUNITÁRIA - RESÍDUOS SÓLIDOS (URBANOS, INDUSTRIAIS, HOSPITALARES, ...) |  61                                                                             | \n",
       "| caxias do sul                                                                   | DEFESA COMUNITÁRIA - LOTEAMENTOS IRREGULARES OU CLANDESTINOS                    |  54                                                                             | \n",
       "| viamão                                                                          | DEFESA COMUNITÁRIA - OUTRAS HIPÓTESES AMBIENTAIS                                |  54                                                                             | \n",
       "| passo fundo                                                                     | DEFESA COMUNITÁRIA - OUTRAS HIPÓTESES AMBIENTAIS                                |  52                                                                             | \n",
       "| porto alegre                                                                    | DEFESA COMUNITÁRIA - FLORA                                                      |  48                                                                             | \n",
       "\n",
       "\n"
      ],
      "text/plain": [
       "  cidade       \n",
       "1 torres       \n",
       "2 alegrete     \n",
       "3 caxias do sul\n",
       "4 viamão       \n",
       "5 passo fundo  \n",
       "6 porto alegre \n",
       "  assunto                                                                        \n",
       "1 DEFESA COMUNITÁRIA - OUTRAS HIPÓTESES AMBIENTAIS                               \n",
       "2 DEFESA COMUNITÁRIA - RESÍDUOS SÓLIDOS (URBANOS, INDUSTRIAIS, HOSPITALARES, ...)\n",
       "3 DEFESA COMUNITÁRIA - LOTEAMENTOS IRREGULARES OU CLANDESTINOS                   \n",
       "4 DEFESA COMUNITÁRIA - OUTRAS HIPÓTESES AMBIENTAIS                               \n",
       "5 DEFESA COMUNITÁRIA - OUTRAS HIPÓTESES AMBIENTAIS                               \n",
       "6 DEFESA COMUNITÁRIA - FLORA                                                     \n",
       "  freq_assunto\n",
       "1 111         \n",
       "2  61         \n",
       "3  54         \n",
       "4  54         \n",
       "5  52         \n",
       "6  48         "
      ]
     },
     "metadata": {},
     "output_type": "display_data"
    }
   ],
   "source": [
    "head(cidade_assunto_freq)"
   ]
  },
  {
   "cell_type": "code",
   "execution_count": 51,
   "metadata": {},
   "outputs": [],
   "source": [
    "# frequência maior ou igual 48\n",
    "cidade_assunto_freq2 = subset(cidade_assunto_freq, freq_assunto >= 48)"
   ]
  },
  {
   "cell_type": "code",
   "execution_count": 54,
   "metadata": {},
   "outputs": [
    {
     "data": {
      "text/html": [
       "<ol class=list-inline>\n",
       "\t<li>6</li>\n",
       "\t<li>3</li>\n",
       "</ol>\n"
      ],
      "text/latex": [
       "\\begin{enumerate*}\n",
       "\\item 6\n",
       "\\item 3\n",
       "\\end{enumerate*}\n"
      ],
      "text/markdown": [
       "1. 6\n",
       "2. 3\n",
       "\n",
       "\n"
      ],
      "text/plain": [
       "[1] 6 3"
      ]
     },
     "metadata": {},
     "output_type": "display_data"
    }
   ],
   "source": [
    "dim(cidade_assunto_freq2)"
   ]
  },
  {
   "cell_type": "code",
   "execution_count": 62,
   "metadata": {},
   "outputs": [
    {
     "data": {},
     "metadata": {},
     "output_type": "display_data"
    },
    {
     "data": {
      "image/png": "[encoded data removed]",
      "text/plain": [
       "plot without title"
      ]
     },
     "metadata": {},
     "output_type": "display_data"
    }
   ],
   "source": [
    "options(repr.plot.width=10, repr.plot.height=10)\n",
    "p<-ggplot(data=cidade_assunto_freq2, \n",
    "          aes(x=cidade, y=freq_assunto, fill=assunto)) +\n",
    "  geom_bar(stat=\"identity\") +\n",
    "  coord_flip()\n",
    "p"
   ]
  },
  {
   "cell_type": "markdown",
   "metadata": {},
   "source": [
    "# Valor Mediano por assunto"
   ]
  },
  {
   "cell_type": "code",
   "execution_count": 64,
   "metadata": {},
   "outputs": [],
   "source": [
    "promotor_assunto_valor = read.csv('promotor_assunto_valor.csv', sep = '\\t')"
   ]
  },
  {
   "cell_type": "code",
   "execution_count": 65,
   "metadata": {},
   "outputs": [
    {
     "data": {
      "text/html": [
       "<table>\n",
       "<thead><tr><th scope=col>promotor</th><th scope=col>assunto</th><th scope=col>valor</th><th scope=col>numero</th><th scope=col>nome_arquivo</th></tr></thead>\n",
       "<tbody>\n",
       "\t<tr><td>PAULO ESTEVAM COSTA CASTRO ARAÚJO               </td><td>DEFESA DA CIDADANIA - SAÚDE PÚBLICA             </td><td>10000                                           </td><td>00715.00017/2016                                </td><td>1604.pdf                                        </td></tr>\n",
       "\t<tr><td>DIOLINDA KURRLE HANNUSCH                        </td><td>DEFESA COMUNITÁRIA - RESÍDUOS SÓLIDOS - OUTROS  </td><td>10000                                           </td><td>00794.00023/2016                                </td><td>2768.pdf                                        </td></tr>\n",
       "\t<tr><td>RONALDO LARA RESENDE                            </td><td>DEFESA COMUNITÁRIA - FAUNA                      </td><td>  510                                           </td><td>00771.00048/2016                                </td><td>2400.pdf                                        </td></tr>\n",
       "\t<tr><td>MARCIO SCHENATO                                 </td><td>DEFESA COMUNITÁRIA - FLORA                      </td><td> 1000                                           </td><td>00908.00013/2016                                </td><td>187.pdf                                         </td></tr>\n",
       "\t<tr><td>MICHAEL SCHNEIDER FLACH                         </td><td>DEFESA DA CIDADANIA - SAÚDE PÚBLICA             </td><td>10000                                           </td><td>00731.00003/2011                                </td><td>1842.pdf                                        </td></tr>\n",
       "\t<tr><td>BIANCA ACIOLY DE ARAUJO                         </td><td>DEFESA COMUNITÁRIA - OUTRAS HIPÓTESES AMBIENTAIS</td><td> 1000                                           </td><td>00725.00008/2015                                </td><td>3849.pdf                                        </td></tr>\n",
       "</tbody>\n",
       "</table>\n"
      ],
      "text/latex": [
       "\\begin{tabular}{r|lllll}\n",
       " promotor & assunto & valor & numero & nome\\_arquivo\\\\\n",
       "\\hline\n",
       "\t PAULO ESTEVAM COSTA CASTRO ARAÚJO                & DEFESA DA CIDADANIA - SAÚDE PÚBLICA              & 10000                                            & 00715.00017/2016                                 & 1604.pdf                                        \\\\\n",
       "\t DIOLINDA KURRLE HANNUSCH                         & DEFESA COMUNITÁRIA - RESÍDUOS SÓLIDOS - OUTROS   & 10000                                            & 00794.00023/2016                                 & 2768.pdf                                        \\\\\n",
       "\t RONALDO LARA RESENDE                             & DEFESA COMUNITÁRIA - FAUNA                       &   510                                            & 00771.00048/2016                                 & 2400.pdf                                        \\\\\n",
       "\t MARCIO SCHENATO                                  & DEFESA COMUNITÁRIA - FLORA                       &  1000                                            & 00908.00013/2016                                 & 187.pdf                                         \\\\\n",
       "\t MICHAEL SCHNEIDER FLACH                          & DEFESA DA CIDADANIA - SAÚDE PÚBLICA              & 10000                                            & 00731.00003/2011                                 & 1842.pdf                                        \\\\\n",
       "\t BIANCA ACIOLY DE ARAUJO                          & DEFESA COMUNITÁRIA - OUTRAS HIPÓTESES AMBIENTAIS &  1000                                            & 00725.00008/2015                                 & 3849.pdf                                        \\\\\n",
       "\\end{tabular}\n"
      ],
      "text/markdown": [
       "\n",
       "promotor | assunto | valor | numero | nome_arquivo | \n",
       "|---|---|---|---|---|---|\n",
       "| PAULO ESTEVAM COSTA CASTRO ARAÚJO                | DEFESA DA CIDADANIA - SAÚDE PÚBLICA              | 10000                                            | 00715.00017/2016                                 | 1604.pdf                                         | \n",
       "| DIOLINDA KURRLE HANNUSCH                         | DEFESA COMUNITÁRIA - RESÍDUOS SÓLIDOS - OUTROS   | 10000                                            | 00794.00023/2016                                 | 2768.pdf                                         | \n",
       "| RONALDO LARA RESENDE                             | DEFESA COMUNITÁRIA - FAUNA                       |   510                                            | 00771.00048/2016                                 | 2400.pdf                                         | \n",
       "| MARCIO SCHENATO                                  | DEFESA COMUNITÁRIA - FLORA                       |  1000                                            | 00908.00013/2016                                 | 187.pdf                                          | \n",
       "| MICHAEL SCHNEIDER FLACH                          | DEFESA DA CIDADANIA - SAÚDE PÚBLICA              | 10000                                            | 00731.00003/2011                                 | 1842.pdf                                         | \n",
       "| BIANCA ACIOLY DE ARAUJO                          | DEFESA COMUNITÁRIA - OUTRAS HIPÓTESES AMBIENTAIS |  1000                                            | 00725.00008/2015                                 | 3849.pdf                                         | \n",
       "\n",
       "\n"
      ],
      "text/plain": [
       "  promotor                         \n",
       "1 PAULO ESTEVAM COSTA CASTRO ARAÚJO\n",
       "2 DIOLINDA KURRLE HANNUSCH         \n",
       "3 RONALDO LARA RESENDE             \n",
       "4 MARCIO SCHENATO                  \n",
       "5 MICHAEL SCHNEIDER FLACH          \n",
       "6 BIANCA ACIOLY DE ARAUJO          \n",
       "  assunto                                          valor numero          \n",
       "1 DEFESA DA CIDADANIA - SAÚDE PÚBLICA              10000 00715.00017/2016\n",
       "2 DEFESA COMUNITÁRIA - RESÍDUOS SÓLIDOS - OUTROS   10000 00794.00023/2016\n",
       "3 DEFESA COMUNITÁRIA - FAUNA                         510 00771.00048/2016\n",
       "4 DEFESA COMUNITÁRIA - FLORA                        1000 00908.00013/2016\n",
       "5 DEFESA DA CIDADANIA - SAÚDE PÚBLICA              10000 00731.00003/2011\n",
       "6 DEFESA COMUNITÁRIA - OUTRAS HIPÓTESES AMBIENTAIS  1000 00725.00008/2015\n",
       "  nome_arquivo\n",
       "1 1604.pdf    \n",
       "2 2768.pdf    \n",
       "3 2400.pdf    \n",
       "4 187.pdf     \n",
       "5 1842.pdf    \n",
       "6 3849.pdf    "
      ]
     },
     "metadata": {},
     "output_type": "display_data"
    }
   ],
   "source": [
    "head(promotor_assunto_valor)"
   ]
  },
  {
   "cell_type": "code",
   "execution_count": 88,
   "metadata": {},
   "outputs": [],
   "source": [
    "# Valor mediano é menos afetado por outliers\n",
    "assunto_valorMediano = sqldf('select assunto, MEDIAN(valor) as valor_mediano\n",
    "                            from promotor_assunto_valor\n",
    "                            group by assunto\n",
    "                            order by valor_mediano desc;')"
   ]
  },
  {
   "cell_type": "code",
   "execution_count": 89,
   "metadata": {},
   "outputs": [
    {
     "data": {
      "text/html": [
       "<ol class=list-inline>\n",
       "\t<li>186</li>\n",
       "\t<li>2</li>\n",
       "</ol>\n"
      ],
      "text/latex": [
       "\\begin{enumerate*}\n",
       "\\item 186\n",
       "\\item 2\n",
       "\\end{enumerate*}\n"
      ],
      "text/markdown": [
       "1. 186\n",
       "2. 2\n",
       "\n",
       "\n"
      ],
      "text/plain": [
       "[1] 186   2"
      ]
     },
     "metadata": {},
     "output_type": "display_data"
    }
   ],
   "source": [
    "dim(assunto_valorMediano)"
   ]
  },
  {
   "cell_type": "code",
   "execution_count": 91,
   "metadata": {},
   "outputs": [
    {
     "data": {
      "text/html": [
       "<table>\n",
       "<thead><tr><th scope=col>assunto</th><th scope=col>valor_mediano</th></tr></thead>\n",
       "<tbody>\n",
       "\t<tr><td>DEFESA COMUNITÁRIA - FAUNA / DEFESA COMUNITÁRIA - LOTEAMENTOS IRREGULARES OU CLANDESTINOS                                       </td><td>764522.3                                                                                                                        </td></tr>\n",
       "\t<tr><td>CRIMINAL - MEIO AMBIENTE / DEFESA COMUNITÁRIA - FLORA / DEFESA COMUNITÁRIA - OUTRAS HIPÓTESES AMBIENTAIS                        </td><td>350250.0                                                                                                                        </td></tr>\n",
       "\t<tr><td>DEFESA COMUNITÁRIA - OUTRAS HIPÓTESES DE HABITAÇÃO E ORDEM URBANÍSTICA / DEFESA DA CIDADANIA - OUTRAS HIPÓTESES                 </td><td>149792.0                                                                                                                        </td></tr>\n",
       "\t<tr><td>DEFESA COMUNITÁRIA - LOTEAMENTOS IRREGULARES OU CLANDESTINOS / DEFESA COMUNITÁRIA - POLUIÇÃO HÍDRICA (EFLUENTES DOMÉSTICOS, ...)</td><td>100000.0                                                                                                                        </td></tr>\n",
       "\t<tr><td>DEFESA COMUNITÁRIA - AGROTÓXICO / DEFESA COMUNITÁRIA - POLUIÇÃO HÍDRICA (EFLUENTES DOMÉSTICOS, ...)                             </td><td> 50000.0                                                                                                                        </td></tr>\n",
       "\t<tr><td>DEFESA COMUNITÁRIA - FLORA / DEFESA COMUNITÁRIA - OUTRAS HIPÓTESES DE HABITAÇÃO E ORDEM URBANÍSTICA                             </td><td> 50000.0                                                                                                                        </td></tr>\n",
       "\t<tr><td>DEFESA COMUNITÁRIA - POLUIÇÃO SONORA / DEFESA COMUNITÁRIA - RESÍDUOS SÓLIDOS - OUTROS                                           </td><td> 50000.0                                                                                                                        </td></tr>\n",
       "\t<tr><td>DEFESA COMUNITÁRIA - POLUIÇÃO ATMOSFÉRICA / DEFESA COMUNITÁRIA - POLUIÇÃO SONORA                                                </td><td> 27500.0                                                                                                                        </td></tr>\n",
       "\t<tr><td>DEFESA COMUNITÁRIA - OUTRAS HIPÓTESES AMBIENTAIS / DEFESA COMUNITÁRIA - PATRIMÔNIO HISTÓRICO, TURÍSTICO, PAISAGÍSTICO E CULTURAL</td><td> 20759.0                                                                                                                        </td></tr>\n",
       "\t<tr><td>CÍVEL - OUTRAS HIPÓTESES / DEFESA COMUNITÁRIA - FLORA / DEFESA COMUNITÁRIA - POLUIÇÃO ATMOSFÉRICA                               </td><td> 20000.0                                                                                                                        </td></tr>\n",
       "</tbody>\n",
       "</table>\n"
      ],
      "text/latex": [
       "\\begin{tabular}{r|ll}\n",
       " assunto & valor\\_mediano\\\\\n",
       "\\hline\n",
       "\t DEFESA COMUNITÁRIA - FAUNA / DEFESA COMUNITÁRIA - LOTEAMENTOS IRREGULARES OU CLANDESTINOS                                        & 764522.3                                                                                                                        \\\\\n",
       "\t CRIMINAL - MEIO AMBIENTE / DEFESA COMUNITÁRIA - FLORA / DEFESA COMUNITÁRIA - OUTRAS HIPÓTESES AMBIENTAIS                         & 350250.0                                                                                                                        \\\\\n",
       "\t DEFESA COMUNITÁRIA - OUTRAS HIPÓTESES DE HABITAÇÃO E ORDEM URBANÍSTICA / DEFESA DA CIDADANIA - OUTRAS HIPÓTESES                  & 149792.0                                                                                                                        \\\\\n",
       "\t DEFESA COMUNITÁRIA - LOTEAMENTOS IRREGULARES OU CLANDESTINOS / DEFESA COMUNITÁRIA - POLUIÇÃO HÍDRICA (EFLUENTES DOMÉSTICOS, ...) & 100000.0                                                                                                                        \\\\\n",
       "\t DEFESA COMUNITÁRIA - AGROTÓXICO / DEFESA COMUNITÁRIA - POLUIÇÃO HÍDRICA (EFLUENTES DOMÉSTICOS, ...)                              &  50000.0                                                                                                                        \\\\\n",
       "\t DEFESA COMUNITÁRIA - FLORA / DEFESA COMUNITÁRIA - OUTRAS HIPÓTESES DE HABITAÇÃO E ORDEM URBANÍSTICA                              &  50000.0                                                                                                                        \\\\\n",
       "\t DEFESA COMUNITÁRIA - POLUIÇÃO SONORA / DEFESA COMUNITÁRIA - RESÍDUOS SÓLIDOS - OUTROS                                            &  50000.0                                                                                                                        \\\\\n",
       "\t DEFESA COMUNITÁRIA - POLUIÇÃO ATMOSFÉRICA / DEFESA COMUNITÁRIA - POLUIÇÃO SONORA                                                 &  27500.0                                                                                                                        \\\\\n",
       "\t DEFESA COMUNITÁRIA - OUTRAS HIPÓTESES AMBIENTAIS / DEFESA COMUNITÁRIA - PATRIMÔNIO HISTÓRICO, TURÍSTICO, PAISAGÍSTICO E CULTURAL &  20759.0                                                                                                                        \\\\\n",
       "\t CÍVEL - OUTRAS HIPÓTESES / DEFESA COMUNITÁRIA - FLORA / DEFESA COMUNITÁRIA - POLUIÇÃO ATMOSFÉRICA                                &  20000.0                                                                                                                        \\\\\n",
       "\\end{tabular}\n"
      ],
      "text/markdown": [
       "\n",
       "assunto | valor_mediano | \n",
       "|---|---|---|---|---|---|---|---|---|---|\n",
       "| DEFESA COMUNITÁRIA - FAUNA / DEFESA COMUNITÁRIA - LOTEAMENTOS IRREGULARES OU CLANDESTINOS                                        | 764522.3                                                                                                                         | \n",
       "| CRIMINAL - MEIO AMBIENTE / DEFESA COMUNITÁRIA - FLORA / DEFESA COMUNITÁRIA - OUTRAS HIPÓTESES AMBIENTAIS                         | 350250.0                                                                                                                         | \n",
       "| DEFESA COMUNITÁRIA - OUTRAS HIPÓTESES DE HABITAÇÃO E ORDEM URBANÍSTICA / DEFESA DA CIDADANIA - OUTRAS HIPÓTESES                  | 149792.0                                                                                                                         | \n",
       "| DEFESA COMUNITÁRIA - LOTEAMENTOS IRREGULARES OU CLANDESTINOS / DEFESA COMUNITÁRIA - POLUIÇÃO HÍDRICA (EFLUENTES DOMÉSTICOS, ...) | 100000.0                                                                                                                         | \n",
       "| DEFESA COMUNITÁRIA - AGROTÓXICO / DEFESA COMUNITÁRIA - POLUIÇÃO HÍDRICA (EFLUENTES DOMÉSTICOS, ...)                              |  50000.0                                                                                                                         | \n",
       "| DEFESA COMUNITÁRIA - FLORA / DEFESA COMUNITÁRIA - OUTRAS HIPÓTESES DE HABITAÇÃO E ORDEM URBANÍSTICA                              |  50000.0                                                                                                                         | \n",
       "| DEFESA COMUNITÁRIA - POLUIÇÃO SONORA / DEFESA COMUNITÁRIA - RESÍDUOS SÓLIDOS - OUTROS                                            |  50000.0                                                                                                                         | \n",
       "| DEFESA COMUNITÁRIA - POLUIÇÃO ATMOSFÉRICA / DEFESA COMUNITÁRIA - POLUIÇÃO SONORA                                                 |  27500.0                                                                                                                         | \n",
       "| DEFESA COMUNITÁRIA - OUTRAS HIPÓTESES AMBIENTAIS / DEFESA COMUNITÁRIA - PATRIMÔNIO HISTÓRICO, TURÍSTICO, PAISAGÍSTICO E CULTURAL |  20759.0                                                                                                                         | \n",
       "| CÍVEL - OUTRAS HIPÓTESES / DEFESA COMUNITÁRIA - FLORA / DEFESA COMUNITÁRIA - POLUIÇÃO ATMOSFÉRICA                                |  20000.0                                                                                                                         | \n",
       "\n",
       "\n"
      ],
      "text/plain": [
       "   assunto                                                                                                                         \n",
       "1  DEFESA COMUNITÁRIA - FAUNA / DEFESA COMUNITÁRIA - LOTEAMENTOS IRREGULARES OU CLANDESTINOS                                       \n",
       "2  CRIMINAL - MEIO AMBIENTE / DEFESA COMUNITÁRIA - FLORA / DEFESA COMUNITÁRIA - OUTRAS HIPÓTESES AMBIENTAIS                        \n",
       "3  DEFESA COMUNITÁRIA - OUTRAS HIPÓTESES DE HABITAÇÃO E ORDEM URBANÍSTICA / DEFESA DA CIDADANIA - OUTRAS HIPÓTESES                 \n",
       "4  DEFESA COMUNITÁRIA - LOTEAMENTOS IRREGULARES OU CLANDESTINOS / DEFESA COMUNITÁRIA - POLUIÇÃO HÍDRICA (EFLUENTES DOMÉSTICOS, ...)\n",
       "5  DEFESA COMUNITÁRIA - AGROTÓXICO / DEFESA COMUNITÁRIA - POLUIÇÃO HÍDRICA (EFLUENTES DOMÉSTICOS, ...)                             \n",
       "6  DEFESA COMUNITÁRIA - FLORA / DEFESA COMUNITÁRIA - OUTRAS HIPÓTESES DE HABITAÇÃO E ORDEM URBANÍSTICA                             \n",
       "7  DEFESA COMUNITÁRIA - POLUIÇÃO SONORA / DEFESA COMUNITÁRIA - RESÍDUOS SÓLIDOS - OUTROS                                           \n",
       "8  DEFESA COMUNITÁRIA - POLUIÇÃO ATMOSFÉRICA / DEFESA COMUNITÁRIA - POLUIÇÃO SONORA                                                \n",
       "9  DEFESA COMUNITÁRIA - OUTRAS HIPÓTESES AMBIENTAIS / DEFESA COMUNITÁRIA - PATRIMÔNIO HISTÓRICO, TURÍSTICO, PAISAGÍSTICO E CULTURAL\n",
       "10 CÍVEL - OUTRAS HIPÓTESES / DEFESA COMUNITÁRIA - FLORA / DEFESA COMUNITÁRIA - POLUIÇÃO ATMOSFÉRICA                               \n",
       "   valor_mediano\n",
       "1  764522.3     \n",
       "2  350250.0     \n",
       "3  149792.0     \n",
       "4  100000.0     \n",
       "5   50000.0     \n",
       "6   50000.0     \n",
       "7   50000.0     \n",
       "8   27500.0     \n",
       "9   20759.0     \n",
       "10  20000.0     "
      ]
     },
     "metadata": {},
     "output_type": "display_data"
    }
   ],
   "source": [
    "head(assunto_valorMediano, 10)"
   ]
  },
  {
   "cell_type": "markdown",
   "metadata": {},
   "source": [
    "# Assunto mais tratado por cada Promotor"
   ]
  },
  {
   "cell_type": "code",
   "execution_count": 97,
   "metadata": {},
   "outputs": [],
   "source": [
    "promotor_assunto = sqldf('select promotor, assunto, count(assunto) as freq_assunto\n",
    "                        from promotor_assunto_valor\n",
    "                        group by promotor\n",
    "                        order by freq_assunto desc;')"
   ]
  },
  {
   "cell_type": "code",
   "execution_count": 98,
   "metadata": {},
   "outputs": [
    {
     "data": {
      "text/html": [
       "<ol class=list-inline>\n",
       "\t<li>254</li>\n",
       "\t<li>3</li>\n",
       "</ol>\n"
      ],
      "text/latex": [
       "\\begin{enumerate*}\n",
       "\\item 254\n",
       "\\item 3\n",
       "\\end{enumerate*}\n"
      ],
      "text/markdown": [
       "1. 254\n",
       "2. 3\n",
       "\n",
       "\n"
      ],
      "text/plain": [
       "[1] 254   3"
      ]
     },
     "metadata": {},
     "output_type": "display_data"
    }
   ],
   "source": [
    "dim(promotor_assunto)"
   ]
  },
  {
   "cell_type": "code",
   "execution_count": 113,
   "metadata": {},
   "outputs": [
    {
     "data": {
      "text/html": [
       "<table>\n",
       "<thead><tr><th scope=col>promotor</th><th scope=col>assunto</th><th scope=col>freq_assunto</th></tr></thead>\n",
       "<tbody>\n",
       "\t<tr><td>PAULO DA SILVA CIRNE                                        </td><td>DEFESA COMUNITÁRIA - OUTRAS HIPÓTESES AMBIENTAIS            </td><td>137                                                         </td></tr>\n",
       "\t<tr><td>MÁRCIO ROBERTO SILVA DE CARVALHO                            </td><td>DEFESA COMUNITÁRIA - OUTRAS HIPÓTESES AMBIENTAIS            </td><td>119                                                         </td></tr>\n",
       "\t<tr><td>PAULA REGINA MOHR                                           </td><td>DEFESA COMUNITÁRIA - FLORA                                  </td><td>102                                                         </td></tr>\n",
       "\t<tr><td>DÉBORA JAEGER BECKER                                        </td><td>DEFESA COMUNITÁRIA - FLORA                                  </td><td>101                                                         </td></tr>\n",
       "\t<tr><td>DIEGO PESSI                                                 </td><td>DEFESA COMUNITÁRIA - LOTEAMENTOS IRREGULARES OU CLANDESTINOS</td><td> 95                                                         </td></tr>\n",
       "\t<tr><td>ADRIO RAFAEL PAULA GELATTI                                  </td><td>DEFESA COMUNITÁRIA - OUTRAS HIPÓTESES AMBIENTAIS            </td><td> 94                                                         </td></tr>\n",
       "</tbody>\n",
       "</table>\n"
      ],
      "text/latex": [
       "\\begin{tabular}{r|lll}\n",
       " promotor & assunto & freq\\_assunto\\\\\n",
       "\\hline\n",
       "\t PAULO DA SILVA CIRNE                                         & DEFESA COMUNITÁRIA - OUTRAS HIPÓTESES AMBIENTAIS             & 137                                                         \\\\\n",
       "\t MÁRCIO ROBERTO SILVA DE CARVALHO                             & DEFESA COMUNITÁRIA - OUTRAS HIPÓTESES AMBIENTAIS             & 119                                                         \\\\\n",
       "\t PAULA REGINA MOHR                                            & DEFESA COMUNITÁRIA - FLORA                                   & 102                                                         \\\\\n",
       "\t DÉBORA JAEGER BECKER                                         & DEFESA COMUNITÁRIA - FLORA                                   & 101                                                         \\\\\n",
       "\t DIEGO PESSI                                                  & DEFESA COMUNITÁRIA - LOTEAMENTOS IRREGULARES OU CLANDESTINOS &  95                                                         \\\\\n",
       "\t ADRIO RAFAEL PAULA GELATTI                                   & DEFESA COMUNITÁRIA - OUTRAS HIPÓTESES AMBIENTAIS             &  94                                                         \\\\\n",
       "\\end{tabular}\n"
      ],
      "text/markdown": [
       "\n",
       "promotor | assunto | freq_assunto | \n",
       "|---|---|---|---|---|---|\n",
       "| PAULO DA SILVA CIRNE                                         | DEFESA COMUNITÁRIA - OUTRAS HIPÓTESES AMBIENTAIS             | 137                                                          | \n",
       "| MÁRCIO ROBERTO SILVA DE CARVALHO                             | DEFESA COMUNITÁRIA - OUTRAS HIPÓTESES AMBIENTAIS             | 119                                                          | \n",
       "| PAULA REGINA MOHR                                            | DEFESA COMUNITÁRIA - FLORA                                   | 102                                                          | \n",
       "| DÉBORA JAEGER BECKER                                         | DEFESA COMUNITÁRIA - FLORA                                   | 101                                                          | \n",
       "| DIEGO PESSI                                                  | DEFESA COMUNITÁRIA - LOTEAMENTOS IRREGULARES OU CLANDESTINOS |  95                                                          | \n",
       "| ADRIO RAFAEL PAULA GELATTI                                   | DEFESA COMUNITÁRIA - OUTRAS HIPÓTESES AMBIENTAIS             |  94                                                          | \n",
       "\n",
       "\n"
      ],
      "text/plain": [
       "  promotor                        \n",
       "1 PAULO DA SILVA CIRNE            \n",
       "2 MÁRCIO ROBERTO SILVA DE CARVALHO\n",
       "3 PAULA REGINA MOHR               \n",
       "4 DÉBORA JAEGER BECKER            \n",
       "5 DIEGO PESSI                     \n",
       "6 ADRIO RAFAEL PAULA GELATTI      \n",
       "  assunto                                                      freq_assunto\n",
       "1 DEFESA COMUNITÁRIA - OUTRAS HIPÓTESES AMBIENTAIS             137         \n",
       "2 DEFESA COMUNITÁRIA - OUTRAS HIPÓTESES AMBIENTAIS             119         \n",
       "3 DEFESA COMUNITÁRIA - FLORA                                   102         \n",
       "4 DEFESA COMUNITÁRIA - FLORA                                   101         \n",
       "5 DEFESA COMUNITÁRIA - LOTEAMENTOS IRREGULARES OU CLANDESTINOS  95         \n",
       "6 DEFESA COMUNITÁRIA - OUTRAS HIPÓTESES AMBIENTAIS              94         "
      ]
     },
     "metadata": {},
     "output_type": "display_data"
    }
   ],
   "source": [
    "head(promotor_assunto)"
   ]
  },
  {
   "cell_type": "code",
   "execution_count": 108,
   "metadata": {},
   "outputs": [],
   "source": [
    "df = merge(x = promotor_assunto, y = assunto_valorMediano, by = \"assunto\", all.x=T)"
   ]
  },
  {
   "cell_type": "code",
   "execution_count": 110,
   "metadata": {},
   "outputs": [],
   "source": [
    "promotor_freqAssunto_valorMedi = sqldf('select promotor, assunto, \n",
    "                                        freq_assunto, valor_mediano\n",
    "                                        from df\n",
    "                                        order by freq_assunto desc;')"
   ]
  },
  {
   "cell_type": "code",
   "execution_count": 111,
   "metadata": {},
   "outputs": [
    {
     "data": {
      "text/html": [
       "<ol class=list-inline>\n",
       "\t<li>254</li>\n",
       "\t<li>4</li>\n",
       "</ol>\n"
      ],
      "text/latex": [
       "\\begin{enumerate*}\n",
       "\\item 254\n",
       "\\item 4\n",
       "\\end{enumerate*}\n"
      ],
      "text/markdown": [
       "1. 254\n",
       "2. 4\n",
       "\n",
       "\n"
      ],
      "text/plain": [
       "[1] 254   4"
      ]
     },
     "metadata": {},
     "output_type": "display_data"
    }
   ],
   "source": [
    "dim(promotor_freqAssunto_valorMedi)"
   ]
  },
  {
   "cell_type": "code",
   "execution_count": 112,
   "metadata": {},
   "outputs": [
    {
     "data": {
      "text/html": [
       "<table>\n",
       "<thead><tr><th scope=col>promotor</th><th scope=col>assunto</th><th scope=col>freq_assunto</th><th scope=col>valor_mediano</th></tr></thead>\n",
       "<tbody>\n",
       "\t<tr><td>PAULO DA SILVA CIRNE                                        </td><td>DEFESA COMUNITÁRIA - OUTRAS HIPÓTESES AMBIENTAIS            </td><td>137                                                         </td><td>1576                                                        </td></tr>\n",
       "\t<tr><td>MÁRCIO ROBERTO SILVA DE CARVALHO                            </td><td>DEFESA COMUNITÁRIA - OUTRAS HIPÓTESES AMBIENTAIS            </td><td>119                                                         </td><td>1576                                                        </td></tr>\n",
       "\t<tr><td>PAULA REGINA MOHR                                           </td><td>DEFESA COMUNITÁRIA - FLORA                                  </td><td>102                                                         </td><td>2000                                                        </td></tr>\n",
       "\t<tr><td>DÉBORA JAEGER BECKER                                        </td><td>DEFESA COMUNITÁRIA - FLORA                                  </td><td>101                                                         </td><td>2000                                                        </td></tr>\n",
       "\t<tr><td>DIEGO PESSI                                                 </td><td>DEFESA COMUNITÁRIA - LOTEAMENTOS IRREGULARES OU CLANDESTINOS</td><td> 95                                                         </td><td>1000                                                        </td></tr>\n",
       "\t<tr><td>ADRIO RAFAEL PAULA GELATTI                                  </td><td>DEFESA COMUNITÁRIA - OUTRAS HIPÓTESES AMBIENTAIS            </td><td> 94                                                         </td><td>1576                                                        </td></tr>\n",
       "</tbody>\n",
       "</table>\n"
      ],
      "text/latex": [
       "\\begin{tabular}{r|llll}\n",
       " promotor & assunto & freq\\_assunto & valor\\_mediano\\\\\n",
       "\\hline\n",
       "\t PAULO DA SILVA CIRNE                                         & DEFESA COMUNITÁRIA - OUTRAS HIPÓTESES AMBIENTAIS             & 137                                                          & 1576                                                        \\\\\n",
       "\t MÁRCIO ROBERTO SILVA DE CARVALHO                             & DEFESA COMUNITÁRIA - OUTRAS HIPÓTESES AMBIENTAIS             & 119                                                          & 1576                                                        \\\\\n",
       "\t PAULA REGINA MOHR                                            & DEFESA COMUNITÁRIA - FLORA                                   & 102                                                          & 2000                                                        \\\\\n",
       "\t DÉBORA JAEGER BECKER                                         & DEFESA COMUNITÁRIA - FLORA                                   & 101                                                          & 2000                                                        \\\\\n",
       "\t DIEGO PESSI                                                  & DEFESA COMUNITÁRIA - LOTEAMENTOS IRREGULARES OU CLANDESTINOS &  95                                                          & 1000                                                        \\\\\n",
       "\t ADRIO RAFAEL PAULA GELATTI                                   & DEFESA COMUNITÁRIA - OUTRAS HIPÓTESES AMBIENTAIS             &  94                                                          & 1576                                                        \\\\\n",
       "\\end{tabular}\n"
      ],
      "text/markdown": [
       "\n",
       "promotor | assunto | freq_assunto | valor_mediano | \n",
       "|---|---|---|---|---|---|\n",
       "| PAULO DA SILVA CIRNE                                         | DEFESA COMUNITÁRIA - OUTRAS HIPÓTESES AMBIENTAIS             | 137                                                          | 1576                                                         | \n",
       "| MÁRCIO ROBERTO SILVA DE CARVALHO                             | DEFESA COMUNITÁRIA - OUTRAS HIPÓTESES AMBIENTAIS             | 119                                                          | 1576                                                         | \n",
       "| PAULA REGINA MOHR                                            | DEFESA COMUNITÁRIA - FLORA                                   | 102                                                          | 2000                                                         | \n",
       "| DÉBORA JAEGER BECKER                                         | DEFESA COMUNITÁRIA - FLORA                                   | 101                                                          | 2000                                                         | \n",
       "| DIEGO PESSI                                                  | DEFESA COMUNITÁRIA - LOTEAMENTOS IRREGULARES OU CLANDESTINOS |  95                                                          | 1000                                                         | \n",
       "| ADRIO RAFAEL PAULA GELATTI                                   | DEFESA COMUNITÁRIA - OUTRAS HIPÓTESES AMBIENTAIS             |  94                                                          | 1576                                                         | \n",
       "\n",
       "\n"
      ],
      "text/plain": [
       "  promotor                        \n",
       "1 PAULO DA SILVA CIRNE            \n",
       "2 MÁRCIO ROBERTO SILVA DE CARVALHO\n",
       "3 PAULA REGINA MOHR               \n",
       "4 DÉBORA JAEGER BECKER            \n",
       "5 DIEGO PESSI                     \n",
       "6 ADRIO RAFAEL PAULA GELATTI      \n",
       "  assunto                                                      freq_assunto\n",
       "1 DEFESA COMUNITÁRIA - OUTRAS HIPÓTESES AMBIENTAIS             137         \n",
       "2 DEFESA COMUNITÁRIA - OUTRAS HIPÓTESES AMBIENTAIS             119         \n",
       "3 DEFESA COMUNITÁRIA - FLORA                                   102         \n",
       "4 DEFESA COMUNITÁRIA - FLORA                                   101         \n",
       "5 DEFESA COMUNITÁRIA - LOTEAMENTOS IRREGULARES OU CLANDESTINOS  95         \n",
       "6 DEFESA COMUNITÁRIA - OUTRAS HIPÓTESES AMBIENTAIS              94         \n",
       "  valor_mediano\n",
       "1 1576         \n",
       "2 1576         \n",
       "3 2000         \n",
       "4 2000         \n",
       "5 1000         \n",
       "6 1576         "
      ]
     },
     "metadata": {},
     "output_type": "display_data"
    }
   ],
   "source": [
    "head(promotor_freqAssunto_valorMedi)"
   ]
  },
  {
   "cell_type": "code",
   "execution_count": 116,
   "metadata": {},
   "outputs": [],
   "source": [
    "df2 = subset(promotor_freqAssunto_valorMedi, freq_assunto >= 94)"
   ]
  },
  {
   "cell_type": "code",
   "execution_count": 117,
   "metadata": {},
   "outputs": [
    {
     "data": {
      "text/html": [
       "<ol class=list-inline>\n",
       "\t<li>6</li>\n",
       "\t<li>4</li>\n",
       "</ol>\n"
      ],
      "text/latex": [
       "\\begin{enumerate*}\n",
       "\\item 6\n",
       "\\item 4\n",
       "\\end{enumerate*}\n"
      ],
      "text/markdown": [
       "1. 6\n",
       "2. 4\n",
       "\n",
       "\n"
      ],
      "text/plain": [
       "[1] 6 4"
      ]
     },
     "metadata": {},
     "output_type": "display_data"
    }
   ],
   "source": [
    "dim(df2)"
   ]
  },
  {
   "cell_type": "code",
   "execution_count": 141,
   "metadata": {},
   "outputs": [
    {
     "data": {},
     "metadata": {},
     "output_type": "display_data"
    },
    {
     "data": {
      "image/png": "[encoded data removed]",
      "text/plain": [
       "plot without title"
      ]
     },
     "metadata": {},
     "output_type": "display_data"
    }
   ],
   "source": [
    "# Valor mediano do assunto no topo de cada barra\n",
    "options(repr.plot.width=13, repr.plot.height=10)\n",
    "p2<-ggplot(data=df2, \n",
    "          aes(x=promotor, y=freq_assunto, fill=assunto)) +\n",
    "  geom_bar(stat=\"identity\") +\n",
    "  geom_text(aes(label=valor_mediano), vjust=-0.3, size=5)+\n",
    "  coord_flip()\n",
    "p2"
   ]
  },
  {
   "cell_type": "markdown",
   "metadata": {},
   "source": [
    "# Referências mais frequêntes por assunto"
   ]
  },
  {
   "cell_type": "code",
   "execution_count": 142,
   "metadata": {},
   "outputs": [],
   "source": [
    "assunto_referencia = read.csv('assunto_referencia.csv', sep='\\t')"
   ]
  },
  {
   "cell_type": "code",
   "execution_count": 143,
   "metadata": {},
   "outputs": [
    {
     "data": {
      "text/html": [
       "<table>\n",
       "<thead><tr><th scope=col>X</th><th scope=col>assunto</th><th scope=col>referencia</th><th scope=col>numero</th><th scope=col>nome_arquivo</th></tr></thead>\n",
       "<tbody>\n",
       "\t<tr><td>0                                                                                                  </td><td>DEFESA DA CIDADANIA - SAÚDE PÚBLICA                                                                </td><td>artigo 5°, parágrafo 6°, da lei n° 7.347/85 e o provimento n.º 26/08 do procurador-geral de justiça</td><td>00715.00017/2016                                                                                   </td><td>1604.pdf                                                                                           </td></tr>\n",
       "\t<tr><td>1                                                                                                  </td><td>DEFESA DA CIDADANIA - SAÚDE PÚBLICA                                                                </td><td>parágrafo 6º do artigo 5º da lei n                                                                 </td><td>00715.00017/2016                                                                                   </td><td>1604.pdf                                                                                           </td></tr>\n",
       "\t<tr><td>2                                                                                                  </td><td>DEFESA DA CIDADANIA - SAÚDE PÚBLICA                                                                </td><td>lei federal n                                                                                      </td><td>00715.00017/2016                                                                                   </td><td>1604.pdf                                                                                           </td></tr>\n",
       "\t<tr><td>3                                                                                                  </td><td>DEFESA COMUNITÁRIA - FAUNA                                                                         </td><td>artigo 26, § 4º, da do provimento 12/2011                                                          </td><td>00771.00048/2016                                                                                   </td><td>2400.pdf                                                                                           </td></tr>\n",
       "\t<tr><td>4                                                                                                  </td><td>DEFESA COMUNITÁRIA - FAUNA                                                                         </td><td>parágrafo 3o do artigo 9o da lei n.o 7.347/85.                                                     </td><td>00771.00048/2016                                                                                   </td><td>2400.pdf                                                                                           </td></tr>\n",
       "\t<tr><td>5                                                                                                  </td><td>DEFESA COMUNITÁRIA - FAUNA                                                                         </td><td>art                                                                                                </td><td>00771.00048/2016                                                                                   </td><td>2400.pdf                                                                                           </td></tr>\n",
       "</tbody>\n",
       "</table>\n"
      ],
      "text/latex": [
       "\\begin{tabular}{r|lllll}\n",
       " X & assunto & referencia & numero & nome\\_arquivo\\\\\n",
       "\\hline\n",
       "\t 0                                                                                                   & DEFESA DA CIDADANIA - SAÚDE PÚBLICA                                                                 & artigo 5°, parágrafo 6°, da lei n° 7.347/85 e o provimento n.º 26/08 do procurador-geral de justiça & 00715.00017/2016                                                                                    & 1604.pdf                                                                                           \\\\\n",
       "\t 1                                                                                                   & DEFESA DA CIDADANIA - SAÚDE PÚBLICA                                                                 & parágrafo 6º do artigo 5º da lei n                                                                  & 00715.00017/2016                                                                                    & 1604.pdf                                                                                           \\\\\n",
       "\t 2                                                                                                   & DEFESA DA CIDADANIA - SAÚDE PÚBLICA                                                                 & lei federal n                                                                                       & 00715.00017/2016                                                                                    & 1604.pdf                                                                                           \\\\\n",
       "\t 3                                                                                                   & DEFESA COMUNITÁRIA - FAUNA                                                                          & artigo 26, § 4º, da do provimento 12/2011                                                           & 00771.00048/2016                                                                                    & 2400.pdf                                                                                           \\\\\n",
       "\t 4                                                                                                   & DEFESA COMUNITÁRIA - FAUNA                                                                          & parágrafo 3o do artigo 9o da lei n.o 7.347/85.                                                      & 00771.00048/2016                                                                                    & 2400.pdf                                                                                           \\\\\n",
       "\t 5                                                                                                   & DEFESA COMUNITÁRIA - FAUNA                                                                          & art                                                                                                 & 00771.00048/2016                                                                                    & 2400.pdf                                                                                           \\\\\n",
       "\\end{tabular}\n"
      ],
      "text/markdown": [
       "\n",
       "X | assunto | referencia | numero | nome_arquivo | \n",
       "|---|---|---|---|---|---|\n",
       "| 0                                                                                                   | DEFESA DA CIDADANIA - SAÚDE PÚBLICA                                                                 | artigo 5°, parágrafo 6°, da lei n° 7.347/85 e o provimento n.º 26/08 do procurador-geral de justiça | 00715.00017/2016                                                                                    | 1604.pdf                                                                                            | \n",
       "| 1                                                                                                   | DEFESA DA CIDADANIA - SAÚDE PÚBLICA                                                                 | parágrafo 6º do artigo 5º da lei n                                                                  | 00715.00017/2016                                                                                    | 1604.pdf                                                                                            | \n",
       "| 2                                                                                                   | DEFESA DA CIDADANIA - SAÚDE PÚBLICA                                                                 | lei federal n                                                                                       | 00715.00017/2016                                                                                    | 1604.pdf                                                                                            | \n",
       "| 3                                                                                                   | DEFESA COMUNITÁRIA - FAUNA                                                                          | artigo 26, § 4º, da do provimento 12/2011                                                           | 00771.00048/2016                                                                                    | 2400.pdf                                                                                            | \n",
       "| 4                                                                                                   | DEFESA COMUNITÁRIA - FAUNA                                                                          | parágrafo 3o do artigo 9o da lei n.o 7.347/85.                                                      | 00771.00048/2016                                                                                    | 2400.pdf                                                                                            | \n",
       "| 5                                                                                                   | DEFESA COMUNITÁRIA - FAUNA                                                                          | art                                                                                                 | 00771.00048/2016                                                                                    | 2400.pdf                                                                                            | \n",
       "\n",
       "\n"
      ],
      "text/plain": [
       "  X assunto                            \n",
       "1 0 DEFESA DA CIDADANIA - SAÚDE PÚBLICA\n",
       "2 1 DEFESA DA CIDADANIA - SAÚDE PÚBLICA\n",
       "3 2 DEFESA DA CIDADANIA - SAÚDE PÚBLICA\n",
       "4 3 DEFESA COMUNITÁRIA - FAUNA         \n",
       "5 4 DEFESA COMUNITÁRIA - FAUNA         \n",
       "6 5 DEFESA COMUNITÁRIA - FAUNA         \n",
       "  referencia                                                                                         \n",
       "1 artigo 5°, parágrafo 6°, da lei n° 7.347/85 e o provimento n.º 26/08 do procurador-geral de justiça\n",
       "2 parágrafo 6º do artigo 5º da lei n                                                                 \n",
       "3 lei federal n                                                                                      \n",
       "4 artigo 26, § 4º, da do provimento 12/2011                                                          \n",
       "5 parágrafo 3o do artigo 9o da lei n.o 7.347/85.                                                     \n",
       "6 art                                                                                                \n",
       "  numero           nome_arquivo\n",
       "1 00715.00017/2016 1604.pdf    \n",
       "2 00715.00017/2016 1604.pdf    \n",
       "3 00715.00017/2016 1604.pdf    \n",
       "4 00771.00048/2016 2400.pdf    \n",
       "5 00771.00048/2016 2400.pdf    \n",
       "6 00771.00048/2016 2400.pdf    "
      ]
     },
     "metadata": {},
     "output_type": "display_data"
    }
   ],
   "source": [
    "head(assunto_referencia)"
   ]
  },
  {
   "cell_type": "code",
   "execution_count": 147,
   "metadata": {},
   "outputs": [],
   "source": [
    "assunto_ReferFreq = sqldf('select assunto, referencia, \n",
    "                          count(referencia) as freq\n",
    "                         from assunto_referencia\n",
    "                        group by assunto\n",
    "                        order by freq desc;')"
   ]
  },
  {
   "cell_type": "code",
   "execution_count": 148,
   "metadata": {},
   "outputs": [
    {
     "data": {
      "text/html": [
       "<ol class=list-inline>\n",
       "\t<li>178</li>\n",
       "\t<li>3</li>\n",
       "</ol>\n"
      ],
      "text/latex": [
       "\\begin{enumerate*}\n",
       "\\item 178\n",
       "\\item 3\n",
       "\\end{enumerate*}\n"
      ],
      "text/markdown": [
       "1. 178\n",
       "2. 3\n",
       "\n",
       "\n"
      ],
      "text/plain": [
       "[1] 178   3"
      ]
     },
     "metadata": {},
     "output_type": "display_data"
    }
   ],
   "source": [
    "dim(assunto_ReferFreq)"
   ]
  },
  {
   "cell_type": "code",
   "execution_count": 149,
   "metadata": {},
   "outputs": [
    {
     "data": {
      "text/html": [
       "<table>\n",
       "<thead><tr><th scope=col>assunto</th><th scope=col>referencia</th><th scope=col>freq</th></tr></thead>\n",
       "<tbody>\n",
       "\t<tr><td>DEFESA COMUNITÁRIA - OUTRAS HIPÓTESES AMBIENTAIS                                                   </td><td>artigo 14, inciso iv                                                                               </td><td>3558                                                                                               </td></tr>\n",
       "\t<tr><td>DEFESA COMUNITÁRIA - FLORA                                                                         </td><td>artigo 27 e seus parágrafos do provimento                                                          </td><td>2681                                                                                               </td></tr>\n",
       "\t<tr><td>DEFESA COMUNITÁRIA - OUTRAS QUESTÕES DE CONSUMO (VENDA CASADA, CONSÓRCIOS, ...)                    </td><td>artigo 5º, § 6º, da lei 7.347/85 e do art                                                          </td><td>1069                                                                                               </td></tr>\n",
       "\t<tr><td>DEFESA COMUNITÁRIA - PRODUTOS IRREGULARES (IRREGULARIDADES NO RÓTULO, ADULTERADOS, NOCIVOS À SAÚDE)</td><td>artigo 9º, § 3º, da lei nº 7.437, de 24 de julho de 1985                                           </td><td> 671                                                                                               </td></tr>\n",
       "\t<tr><td>DEFESA COMUNITÁRIA - FAUNA                                                                         </td><td>artigo 585, inciso viii, do código de processo civil                                               </td><td> 562                                                                                               </td></tr>\n",
       "\t<tr><td>DEFESA COMUNITÁRIA - POLUIÇÃO SONORA                                                               </td><td>artigo 5º, § 6º, da lei n                                                                          </td><td> 518                                                                                               </td></tr>\n",
       "</tbody>\n",
       "</table>\n"
      ],
      "text/latex": [
       "\\begin{tabular}{r|lll}\n",
       " assunto & referencia & freq\\\\\n",
       "\\hline\n",
       "\t DEFESA COMUNITÁRIA - OUTRAS HIPÓTESES AMBIENTAIS                                                    & artigo 14, inciso iv                                                                                & 3558                                                                                               \\\\\n",
       "\t DEFESA COMUNITÁRIA - FLORA                                                                          & artigo 27 e seus parágrafos do provimento                                                           & 2681                                                                                               \\\\\n",
       "\t DEFESA COMUNITÁRIA - OUTRAS QUESTÕES DE CONSUMO (VENDA CASADA, CONSÓRCIOS, ...)                     & artigo 5º, § 6º, da lei 7.347/85 e do art                                                           & 1069                                                                                               \\\\\n",
       "\t DEFESA COMUNITÁRIA - PRODUTOS IRREGULARES (IRREGULARIDADES NO RÓTULO, ADULTERADOS, NOCIVOS À SAÚDE) & artigo 9º, § 3º, da lei nº 7.437, de 24 de julho de 1985                                            &  671                                                                                               \\\\\n",
       "\t DEFESA COMUNITÁRIA - FAUNA                                                                          & artigo 585, inciso viii, do código de processo civil                                                &  562                                                                                               \\\\\n",
       "\t DEFESA COMUNITÁRIA - POLUIÇÃO SONORA                                                                & artigo 5º, § 6º, da lei n                                                                           &  518                                                                                               \\\\\n",
       "\\end{tabular}\n"
      ],
      "text/markdown": [
       "\n",
       "assunto | referencia | freq | \n",
       "|---|---|---|---|---|---|\n",
       "| DEFESA COMUNITÁRIA - OUTRAS HIPÓTESES AMBIENTAIS                                                    | artigo 14, inciso iv                                                                                | 3558                                                                                                | \n",
       "| DEFESA COMUNITÁRIA - FLORA                                                                          | artigo 27 e seus parágrafos do provimento                                                           | 2681                                                                                                | \n",
       "| DEFESA COMUNITÁRIA - OUTRAS QUESTÕES DE CONSUMO (VENDA CASADA, CONSÓRCIOS, ...)                     | artigo 5º, § 6º, da lei 7.347/85 e do art                                                           | 1069                                                                                                | \n",
       "| DEFESA COMUNITÁRIA - PRODUTOS IRREGULARES (IRREGULARIDADES NO RÓTULO, ADULTERADOS, NOCIVOS À SAÚDE) | artigo 9º, § 3º, da lei nº 7.437, de 24 de julho de 1985                                            |  671                                                                                                | \n",
       "| DEFESA COMUNITÁRIA - FAUNA                                                                          | artigo 585, inciso viii, do código de processo civil                                                |  562                                                                                                | \n",
       "| DEFESA COMUNITÁRIA - POLUIÇÃO SONORA                                                                | artigo 5º, § 6º, da lei n                                                                           |  518                                                                                                | \n",
       "\n",
       "\n"
      ],
      "text/plain": [
       "  assunto                                                                                            \n",
       "1 DEFESA COMUNITÁRIA - OUTRAS HIPÓTESES AMBIENTAIS                                                   \n",
       "2 DEFESA COMUNITÁRIA - FLORA                                                                         \n",
       "3 DEFESA COMUNITÁRIA - OUTRAS QUESTÕES DE CONSUMO (VENDA CASADA, CONSÓRCIOS, ...)                    \n",
       "4 DEFESA COMUNITÁRIA - PRODUTOS IRREGULARES (IRREGULARIDADES NO RÓTULO, ADULTERADOS, NOCIVOS À SAÚDE)\n",
       "5 DEFESA COMUNITÁRIA - FAUNA                                                                         \n",
       "6 DEFESA COMUNITÁRIA - POLUIÇÃO SONORA                                                               \n",
       "  referencia                                               freq\n",
       "1 artigo 14, inciso iv                                     3558\n",
       "2 artigo 27 e seus parágrafos do provimento                2681\n",
       "3 artigo 5º, § 6º, da lei 7.347/85 e do art                1069\n",
       "4 artigo 9º, § 3º, da lei nº 7.437, de 24 de julho de 1985  671\n",
       "5 artigo 585, inciso viii, do código de processo civil      562\n",
       "6 artigo 5º, § 6º, da lei n                                 518"
      ]
     },
     "metadata": {},
     "output_type": "display_data"
    }
   ],
   "source": [
    "head(assunto_ReferFreq)"
   ]
  }
 ],
 "metadata": {
  "kernelspec": {
   "display_name": "R",
   "language": "R",
   "name": "ir"
  },
  "language_info": {
   "codemirror_mode": "r",
   "file_extension": ".r",
   "mimetype": "text/x-r-source",
   "name": "R",
   "pygments_lexer": "r",
   "version": "3.4.4"
  }
 },
 "nbformat": 4,
 "nbformat_minor": 2
}
